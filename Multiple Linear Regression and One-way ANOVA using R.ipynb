{
 "cells": [
  {
   "cell_type": "markdown",
   "metadata": {},
   "source": [
    "**Advanced Data Analysis; Multiple Linear Regression and One-way ANOVA using R**"
   ]
  },
  {
   "cell_type": "markdown",
   "metadata": {},
   "source": [
    "**Overview**\n",
    "\n",
    "Before undertaking this analysis it was important to look at the many other factors that influence crime that are correlated with poverty and population such as the following;\n",
    "\n",
    "•\tUnemployment may increase poverty and at the same time lead to more pressure to carry crime due to difficult circumstances and the need to sustain income.\n",
    "•\tPersonal income per capita, which is inversely correlated with the poverty level. However because of social class gaps, personal income per capita rates may not affect poverty to a great extent (the income may be concentrated in a small percentage of the population).\n",
    "\n",
    "For the purpose of this analysis it was decided to study population density (population per square mile) as a factor that influences crime rates. For example the impact of living conditions (Government housing schemes/regions in comparison to apartments etc) it is also likely to be correlated with both poverty and crime. Studies in the past have found that highly density populated areas tend to have higher poverty rates. Finally the impact of the % of population in state - living below the poverty level and the metropolitan population as % of state population"
   ]
  },
  {
   "cell_type": "markdown",
   "metadata": {},
   "source": [
    "**Multiple Linear Regression and One-way ANOVA using R**\n",
    "\n",
    "**Crime Statistics Analysis – Variable Selection, Model Construction and notes on Correlation.**\n",
    "\t\n",
    "Y; Crime = The total number of crimes in 1993 per 100,000 population by each US State.\n",
    "X1;pov = The total % of population in each US state that are surviving below the poverty line. Poverty is less correlated to crime compared to the other variables which is a surprise but still falls into the label of directly correlated to some little degree of acceptance. This variable is weakly indirectly correlated to the variable metro (-0.08304677).\n",
    "X2; metro = The % metropolitan population of each state. A correlation of (0.5439765) highlighted in the results below indicate a direct correlation with Crime rates for this period.\n",
    "X3; popdens = The population density per square mile. Correlation Matrix Graphic 2 below indicates that this variable is reasonably directly correlated with crime at (0.6118508) intermediate level. This variable is also intermediately correlated with but Metropolitan population and Poverty.\n",
    "\n",
    "*Data Source: Statistical Abstract of the United States, 2009, and 2010[website: https://www.census.gov/library/publications/time-series/statistical_abstracts.html]\n"
   ]
  },
  {
   "cell_type": "code",
   "execution_count": 1,
   "metadata": {
    "collapsed": false
   },
   "outputs": [
    {
     "name": "stdout",
     "output_type": "stream",
     "text": [
      "'data.frame':\t51 obs. of  5 variables:\n",
      " $ Crime  : num  4338 3567 3725 4415 3202 ...\n",
      " $ pov    : num  19 9.9 17.4 18.8 15.8 13.4 10.1 11.8 19.2 16.5 ...\n",
      " $ metro  : num  71.5 67.4 92.5 60.3 97.7 ...\n",
      " $ popdens: num  94.4 1.2 56.3 56 239.1 ...\n",
      " $ Year   : int  2009 2009 2009 2009 2009 2009 2009 2009 2009 2009 ...\n"
     ]
    }
   ],
   "source": [
    "data <- read.csv('C:\\\\Clusters\\\\Crime 2009 2010.csv')\n",
    "str(data)"
   ]
  },
  {
   "cell_type": "code",
   "execution_count": 2,
   "metadata": {
    "collapsed": false
   },
   "outputs": [
    {
     "data": {
      "text/html": [
       "<table>\n",
       "<thead><tr><th scope=col>Crime</th><th scope=col>pov</th><th scope=col>metro</th><th scope=col>popdens</th><th scope=col>Year</th></tr></thead>\n",
       "<tbody>\n",
       "\t<tr><td>4337.5</td><td>19.0  </td><td>71.46 </td><td> 94.4 </td><td>2009  </td></tr>\n",
       "\t<tr><td>3567.1</td><td> 9.9  </td><td>67.36 </td><td>  1.2 </td><td>2009  </td></tr>\n",
       "\t<tr><td>3725.2</td><td>17.4  </td><td>92.53 </td><td> 56.3 </td><td>2009  </td></tr>\n",
       "\t<tr><td>4415.4</td><td>18.8  </td><td>60.27 </td><td> 56.0 </td><td>2009  </td></tr>\n",
       "\t<tr><td>3201.6</td><td>15.8  </td><td>97.73 </td><td>239.1 </td><td>2009  </td></tr>\n",
       "\t<tr><td>3024.5</td><td>13.4  </td><td>86.33 </td><td> 48.5 </td><td>2009  </td></tr>\n",
       "</tbody>\n",
       "</table>\n"
      ],
      "text/latex": [
       "\\begin{tabular}{r|lllll}\n",
       " Crime & pov & metro & popdens & Year\\\\\n",
       "\\hline\n",
       "\t 4337.5 & 19.0   & 71.46  &  94.4  & 2009  \\\\\n",
       "\t 3567.1 &  9.9   & 67.36  &   1.2  & 2009  \\\\\n",
       "\t 3725.2 & 17.4   & 92.53  &  56.3  & 2009  \\\\\n",
       "\t 4415.4 & 18.8   & 60.27  &  56.0  & 2009  \\\\\n",
       "\t 3201.6 & 15.8   & 97.73  & 239.1  & 2009  \\\\\n",
       "\t 3024.5 & 13.4   & 86.33  &  48.5  & 2009  \\\\\n",
       "\\end{tabular}\n"
      ],
      "text/markdown": [
       "\n",
       "Crime | pov | metro | popdens | Year | \n",
       "|---|---|---|---|---|---|\n",
       "| 4337.5 | 19.0   | 71.46  |  94.4  | 2009   | \n",
       "| 3567.1 |  9.9   | 67.36  |   1.2  | 2009   | \n",
       "| 3725.2 | 17.4   | 92.53  |  56.3  | 2009   | \n",
       "| 4415.4 | 18.8   | 60.27  |  56.0  | 2009   | \n",
       "| 3201.6 | 15.8   | 97.73  | 239.1  | 2009   | \n",
       "| 3024.5 | 13.4   | 86.33  |  48.5  | 2009   | \n",
       "\n",
       "\n"
      ],
      "text/plain": [
       "  Crime  pov  metro popdens Year\n",
       "1 4337.5 19.0 71.46  94.4   2009\n",
       "2 3567.1  9.9 67.36   1.2   2009\n",
       "3 3725.2 17.4 92.53  56.3   2009\n",
       "4 4415.4 18.8 60.27  56.0   2009\n",
       "5 3201.6 15.8 97.73 239.1   2009\n",
       "6 3024.5 13.4 86.33  48.5   2009"
      ]
     },
     "metadata": {},
     "output_type": "display_data"
    }
   ],
   "source": [
    "head(data)"
   ]
  },
  {
   "cell_type": "code",
   "execution_count": 3,
   "metadata": {
    "collapsed": false
   },
   "outputs": [
    {
     "data": {
      "text/plain": [
       "     Crime           pov            metro           popdens      \n",
       " Min.   :2026   Min.   : 8.30   Min.   : 29.66   Min.   :   1.2  \n",
       " 1st Qu.:2809   1st Qu.:12.80   1st Qu.: 63.20   1st Qu.:  45.8  \n",
       " Median :3525   Median :14.60   Median : 74.88   Median : 101.2  \n",
       " Mean   :3440   Mean   :14.77   Mean   : 74.01   Mean   : 384.4  \n",
       " 3rd Qu.:4040   3rd Qu.:17.45   3rd Qu.: 87.78   3rd Qu.: 221.4  \n",
       " Max.   :6101   Max.   :22.40   Max.   :100.00   Max.   :9856.5  \n",
       "      Year     \n",
       " Min.   :2009  \n",
       " 1st Qu.:2009  \n",
       " Median :2010  \n",
       " Mean   :2010  \n",
       " 3rd Qu.:2010  \n",
       " Max.   :2010  "
      ]
     },
     "metadata": {},
     "output_type": "display_data"
    }
   ],
   "source": [
    "summary(data)"
   ]
  },
  {
   "cell_type": "code",
   "execution_count": 4,
   "metadata": {
    "collapsed": false
   },
   "outputs": [
    {
     "name": "stderr",
     "output_type": "stream",
     "text": [
      "Warning message:\n",
      "\"package 'mlbench' was built under R version 3.2.5\"Warning message:\n",
      "\"package 'caret' was built under R version 3.2.5\"Loading required package: lattice\n",
      "Loading required package: ggplot2\n",
      "Warning message:\n",
      "\"package 'ggplot2' was built under R version 3.2.5\""
     ]
    },
    {
     "name": "stdout",
     "output_type": "stream",
     "text": [
      "            Crime        pov      metro   popdens\n",
      "Crime   1.0000000  0.5521535  0.2844442 0.4229719\n",
      "pov     0.5521535  1.0000000 -0.0645897 0.1356360\n",
      "metro   0.2844442 -0.0645897  1.0000000 0.3116369\n",
      "popdens 0.4229719  0.1356360  0.3116369 1.0000000\n"
     ]
    },
    {
     "name": "stderr",
     "output_type": "stream",
     "text": [
      "Warning message:\n",
      "\"package 'corrplot' was built under R version 3.2.5\""
     ]
    },
    {
     "data": {
      "image/png": "[encoded data removed]",
      "text/plain": [
       "Plot with title \"\""
      ]
     },
     "metadata": {},
     "output_type": "display_data"
    }
   ],
   "source": [
    "#Correlation Matrix; Analyses of correlations between each variable\n",
    "library(mlbench)\n",
    "library(caret)\n",
    "correlationMatrix <- cor(data[,1:4])\n",
    "print(correlationMatrix)\n",
    "library(corrplot)\n",
    "corrplot(correlationMatrix, method=\"number\")"
   ]
  },
  {
   "cell_type": "markdown",
   "metadata": {},
   "source": [
    "**Correlation** \n",
    "\n",
    "Finding the relationship between two quantitative variables without being able to infer causal relationships\u000b",
    "\n",
    "Correlation is a statistical technique used to determine the degree to which two variables are related\n",
    "\n",
    "Before we carry out a simple linear regression between two variables we need to see if they are related. \n",
    "\n",
    "Correlation coefficient is also known as Pearson Product-Moment Correlation Coefficient (r).\n",
    "It is a measure of the degree of linear relationship between two variables, usually labeled X and Y.\n",
    "\n",
    "…think of it as a meaure of ‘association’\n",
    "\n",
    "While in regression the emphasis is on predicting one variable from the other, in correlation the emphasis is on the degree to which a linear model may describe the relationship between two variables.\n",
    "\n",
    "The value of r ranges between ( -1) and ( +1)\n",
    "The value of r denotes the strength of the association we can see from the correlation matrix above that the poverty variable has a higher correlation 0.55 value than the other variables with metropoliton areas having a low correlation with crime rates.\n"
   ]
  },
  {
   "cell_type": "code",
   "execution_count": 5,
   "metadata": {
    "collapsed": false
   },
   "outputs": [
    {
     "name": "stderr",
     "output_type": "stream",
     "text": [
      "Warning message:\n",
      "\"package 'UsingR' was built under R version 3.2.5\"Loading required package: MASS\n",
      "Loading required package: HistData\n",
      "Warning message:\n",
      "\"package 'HistData' was built under R version 3.2.5\"Loading required package: Hmisc\n",
      "Warning message:\n",
      "\"package 'Hmisc' was built under R version 3.2.5\"Loading required package: survival\n",
      "Warning message:\n",
      "\"package 'survival' was built under R version 3.2.5\"\n",
      "Attaching package: 'survival'\n",
      "\n",
      "The following object is masked from 'package:caret':\n",
      "\n",
      "    cluster\n",
      "\n",
      "Loading required package: Formula\n",
      "\n",
      "Attaching package: 'Hmisc'\n",
      "\n",
      "The following objects are masked from 'package:base':\n",
      "\n",
      "    format.pval, round.POSIXt, trunc.POSIXt, units\n",
      "\n",
      "\n",
      "Attaching package: 'UsingR'\n",
      "\n",
      "The following object is masked from 'package:survival':\n",
      "\n",
      "    cancer\n",
      "\n"
     ]
    },
    {
     "data": {},
     "metadata": {},
     "output_type": "display_data"
    },
    {
     "data": {
      "image/png": "[encoded data removed]",
      "text/plain": [
       "plot without title"
      ]
     },
     "metadata": {},
     "output_type": "display_data"
    }
   ],
   "source": [
    "#Staistical Linear regression model between two variables\n",
    "library(UsingR)\n",
    "library(ggplot2)\n",
    "graph = ggplot(data, aes(x = metro, y = Crime))\n",
    "graph = graph + xlab(\"Metro\")\n",
    "graph = graph + ylab(\"Crime Rate\")\n",
    "graph = graph + geom_point(size = 4, colour = \"black\", alpha=0.5)\n",
    "graph = graph + geom_point(size = 2, colour = \"green\", alpha=0.2)\n",
    "graph = graph + geom_smooth(method = \"lm\", colour = \"black\")\n",
    "graph"
   ]
  },
  {
   "cell_type": "markdown",
   "metadata": {},
   "source": [
    "First look at the plot. You interpret a scatterplot by looking for trends in the data as you go from left to right:\n",
    "\n",
    "If the data show an uphill pattern as you move from left to right, this indicates a positive relationship between X and Y. As the X-values increase (move right), the Y-values increase (move up) a certain amount.\n",
    "If the data show a downhill pattern as you move from left to right, this indicates a negative relationship between X and Y. As the X-values increase (move right) the Y-values decrease (move down) by a certain amount.\n",
    "If the data don’t seem to resemble any kind of pattern (even a vague one), then no relationship exists between X and Y.\n",
    "A linear pattern is where the data has a general look of a line going uphill or downhill.\n"
   ]
  },
  {
   "cell_type": "code",
   "execution_count": 6,
   "metadata": {
    "collapsed": false
   },
   "outputs": [
    {
     "data": {
      "text/html": [
       "<dl class=dl-horizontal>\n",
       "\t<dt>(Intercept)</dt>\n",
       "\t\t<dd>2471.86802185895</dd>\n",
       "\t<dt>metro</dt>\n",
       "\t\t<dd>13.0792831801124</dd>\n",
       "</dl>\n"
      ],
      "text/latex": [
       "\\begin{description*}\n",
       "\\item[(Intercept)] 2471.86802185895\n",
       "\\item[metro] 13.0792831801124\n",
       "\\end{description*}\n"
      ],
      "text/markdown": [
       "(Intercept)\n",
       ":   2471.86802185895metro\n",
       ":   13.0792831801124\n",
       "\n"
      ],
      "text/plain": [
       "(Intercept)       metro \n",
       " 2471.86802    13.07928 "
      ]
     },
     "metadata": {},
     "output_type": "display_data"
    }
   ],
   "source": [
    "#linear regression Model with two variables\n",
    "\n",
    "lm.fit <- lm(Crime ~ metro, data = data)\n",
    "coef(lm.fit)\n"
   ]
  },
  {
   "cell_type": "markdown",
   "metadata": {},
   "source": [
    "The above function coef() grabs the fitted coefficients and conveniently names them for you. Therefore,we estimate an expected 13.07 increase in crime for every increase percentage of metropoliton population.The intercept is the expected 2471.86\n",
    "\n",
    "In statistics, the mean squared error (MSE) of an estimator measures the average of the squares of the \"errors\", \n",
    "that is, the difference between the estimator and what is estimated. MSE is a risk function, corresponding \n",
    "to the expected value of the squared error loss or quadratic loss.\n",
    "https://en.wikipedia.org/wiki/Mean_squared_error\n"
   ]
  },
  {
   "cell_type": "code",
   "execution_count": 7,
   "metadata": {
    "collapsed": false
   },
   "outputs": [
    {
     "data": {
      "text/html": [
       "11374790.9272408"
      ],
      "text/latex": [
       "11374790.9272408"
      ],
      "text/markdown": [
       "11374790.9272408"
      ],
      "text/plain": [
       "[1] 11374791"
      ]
     },
     "metadata": {},
     "output_type": "display_data"
    }
   ],
   "source": [
    "#make a prediction using metro variable\n",
    "lm.predict <- predict(lm.fit)\n",
    "mean((lm.predict - data$metro)^2) "
   ]
  },
  {
   "cell_type": "code",
   "execution_count": 8,
   "metadata": {
    "collapsed": false
   },
   "outputs": [
    {
     "data": {
      "image/png": "[encoded data removed]",
      "text/plain": [
       "Plot with title \"Linear regression predictions vs actual\""
      ]
     },
     "metadata": {},
     "output_type": "display_data"
    }
   ],
   "source": [
    "#predictions vs actual plot\n",
    "plot(data$metro, lm.predict, main=\"Linear regression predictions vs actual\", xlab=\"Actual\")"
   ]
  },
  {
   "cell_type": "code",
   "execution_count": 9,
   "metadata": {
    "collapsed": false
   },
   "outputs": [
    {
     "data": {
      "text/html": [
       "5.57065504835919e-12"
      ],
      "text/latex": [
       "5.57065504835919e-12"
      ],
      "text/markdown": [
       "5.57065504835919e-12"
      ],
      "text/plain": [
       "[1] 5.570655e-12"
      ]
     },
     "metadata": {},
     "output_type": "display_data"
    },
    {
     "data": {
      "text/html": [
       "5.6843418860808e-12"
      ],
      "text/latex": [
       "5.6843418860808e-12"
      ],
      "text/markdown": [
       "5.6843418860808e-12"
      ],
      "text/plain": [
       "[1] 5.684342e-12"
      ]
     },
     "metadata": {},
     "output_type": "display_data"
    }
   ],
   "source": [
    "#residuals\n",
    "y <- data$Crime; x <- data$metro; n <- length(y)\n",
    "fit <- lm(y ~ x)\n",
    "## The easiest way to get the residuals\n",
    "res <- resid(fit)\n",
    "## Obtain the residuals manually, get the predicted Ys first\n",
    "yhat <- predict(fit)\n",
    "## The residuals are y - yhat. Let's check by comparing this\n",
    "## with R's build in resid function\n",
    "max(abs(res -(y - yhat)))\n",
    "\n",
    "## Let's do it again hard coding the calculation of Yhat\n",
    "max(abs(res - (y - coef(fit)[1] - coef(fit)[2] * x)))\n"
   ]
  },
  {
   "cell_type": "code",
   "execution_count": 10,
   "metadata": {
    "collapsed": false
   },
   "outputs": [
    {
     "data": {},
     "metadata": {},
     "output_type": "display_data"
    },
    {
     "data": {
      "image/png": "[encoded data removed]",
      "text/plain": [
       "plot without title"
      ]
     },
     "metadata": {},
     "output_type": "display_data"
    }
   ],
   "source": [
    "# A look at the distribution of the metro variable\n",
    "ggplot(data = data, aes(x = metro)) +\n",
    "geom_histogram(binwidth = 5, color = \"green\")"
   ]
  },
  {
   "cell_type": "markdown",
   "metadata": {},
   "source": [
    "**Multivariable Regression: Part B**\n",
    "\n",
    "X1 = pov, X2 = metro , X3 = popdens and Y = Crime\n",
    "\n",
    "1.\tRegression output with comments on the significance of the slope coefficients for all X variables.\n",
    "\n",
    "2.\tInterpretation the regression coefficients\n",
    "\n",
    "3.\tHypothesis test of the R-squared coefficient (ANOVA test) with comments on the multiple regression model relative to analysis in part B.\n"
   ]
  },
  {
   "cell_type": "code",
   "execution_count": 11,
   "metadata": {
    "collapsed": false
   },
   "outputs": [
    {
     "data": {
      "text/html": [
       "<table>\n",
       "<thead><tr><th scope=col>Crime</th><th scope=col>pov</th><th scope=col>metro</th><th scope=col>popdens</th></tr></thead>\n",
       "<tbody>\n",
       "\t<tr><td>4879 </td><td>17.4 </td><td>67.4 </td><td> 82.5</td></tr>\n",
       "\t<tr><td>5568 </td><td> 9.1 </td><td>41.8 </td><td>  1.1</td></tr>\n",
       "\t<tr><td>7432 </td><td>15.4 </td><td>84.7 </td><td> 34.6</td></tr>\n",
       "\t<tr><td>4811 </td><td>20.0 </td><td>44.7 </td><td> 46.6</td></tr>\n",
       "\t<tr><td>6457 </td><td>18.2 </td><td>96.7 </td><td>200.1</td></tr>\n",
       "\t<tr><td>5527 </td><td> 9.9 </td><td>81.8 </td><td> 34.4</td></tr>\n",
       "</tbody>\n",
       "</table>\n"
      ],
      "text/latex": [
       "\\begin{tabular}{r|llll}\n",
       " Crime & pov & metro & popdens\\\\\n",
       "\\hline\n",
       "\t 4879  & 17.4  & 67.4  &  82.5\\\\\n",
       "\t 5568  &  9.1  & 41.8  &   1.1\\\\\n",
       "\t 7432  & 15.4  & 84.7  &  34.6\\\\\n",
       "\t 4811  & 20.0  & 44.7  &  46.6\\\\\n",
       "\t 6457  & 18.2  & 96.7  & 200.1\\\\\n",
       "\t 5527  &  9.9  & 81.8  &  34.4\\\\\n",
       "\\end{tabular}\n"
      ],
      "text/markdown": [
       "\n",
       "Crime | pov | metro | popdens | \n",
       "|---|---|---|---|---|---|\n",
       "| 4879  | 17.4  | 67.4  |  82.5 | \n",
       "| 5568  |  9.1  | 41.8  |   1.1 | \n",
       "| 7432  | 15.4  | 84.7  |  34.6 | \n",
       "| 4811  | 20.0  | 44.7  |  46.6 | \n",
       "| 6457  | 18.2  | 96.7  | 200.1 | \n",
       "| 5527  |  9.9  | 81.8  |  34.4 | \n",
       "\n",
       "\n"
      ],
      "text/plain": [
       "  Crime pov  metro popdens\n",
       "1 4879  17.4 67.4   82.5  \n",
       "2 5568   9.1 41.8    1.1  \n",
       "3 7432  15.4 84.7   34.6  \n",
       "4 4811  20.0 44.7   46.6  \n",
       "5 6457  18.2 96.7  200.1  \n",
       "6 5527   9.9 81.8   34.4  "
      ]
     },
     "metadata": {},
     "output_type": "display_data"
    }
   ],
   "source": [
    "#import data as a dataframe\n",
    "crime <- read.csv( \"C:/Clusters/Crime Statistics USA.csv\", header=TRUE)\n",
    "head(crime)"
   ]
  },
  {
   "cell_type": "code",
   "execution_count": 12,
   "metadata": {
    "collapsed": false
   },
   "outputs": [
    {
     "data": {
      "text/plain": [
       "     Crime            pov            metro           popdens      \n",
       " Min.   : 2533   Min.   : 8.00   Min.   : 24.00   Min.   :   1.1  \n",
       " 1st Qu.: 4140   1st Qu.:10.70   1st Qu.: 49.55   1st Qu.:  34.5  \n",
       " Median : 4894   Median :13.20   Median : 69.80   Median :  82.5  \n",
       " Mean   : 5098   Mean   :14.35   Mean   : 67.47   Mean   : 352.5  \n",
       " 3rd Qu.: 5834   3rd Qu.:17.40   3rd Qu.: 83.95   3rd Qu.: 191.2  \n",
       " Max.   :11761   Max.   :26.40   Max.   :100.00   Max.   :9482.8  "
      ]
     },
     "metadata": {},
     "output_type": "display_data"
    }
   ],
   "source": [
    "summary(crime)"
   ]
  },
  {
   "cell_type": "code",
   "execution_count": 13,
   "metadata": {
    "collapsed": false
   },
   "outputs": [
    {
     "data": {
      "text/html": [
       "<table>\n",
       "<thead><tr><th></th><th scope=col>Crime</th><th scope=col>pov</th><th scope=col>metro</th><th scope=col>popdens</th></tr></thead>\n",
       "<tbody>\n",
       "\t<tr><th scope=row>Crime</th><td>1.0000000  </td><td> 0.33847045</td><td> 0.54397653</td><td>0.6118508  </td></tr>\n",
       "\t<tr><th scope=row>pov</th><td>0.3384705  </td><td> 1.00000000</td><td>-0.08304677</td><td>0.3300112  </td></tr>\n",
       "\t<tr><th scope=row>metro</th><td>0.5439765  </td><td>-0.08304677</td><td> 1.00000000</td><td>0.3158778  </td></tr>\n",
       "\t<tr><th scope=row>popdens</th><td>0.6118508  </td><td> 0.33001118</td><td> 0.31587775</td><td>1.0000000  </td></tr>\n",
       "</tbody>\n",
       "</table>\n"
      ],
      "text/latex": [
       "\\begin{tabular}{r|llll}\n",
       "  & Crime & pov & metro & popdens\\\\\n",
       "\\hline\n",
       "\tCrime & 1.0000000   &  0.33847045 &  0.54397653 & 0.6118508  \\\\\n",
       "\tpov & 0.3384705   &  1.00000000 & -0.08304677 & 0.3300112  \\\\\n",
       "\tmetro & 0.5439765   & -0.08304677 &  1.00000000 & 0.3158778  \\\\\n",
       "\tpopdens & 0.6118508   &  0.33001118 &  0.31587775 & 1.0000000  \\\\\n",
       "\\end{tabular}\n"
      ],
      "text/markdown": [
       "\n",
       "| <!--/--> | Crime | pov | metro | popdens | \n",
       "|---|---|---|---|\n",
       "| Crime | 1.0000000   |  0.33847045 |  0.54397653 | 0.6118508   | \n",
       "| pov | 0.3384705   |  1.00000000 | -0.08304677 | 0.3300112   | \n",
       "| metro | 0.5439765   | -0.08304677 |  1.00000000 | 0.3158778   | \n",
       "| popdens | 0.6118508   |  0.33001118 |  0.31587775 | 1.0000000   | \n",
       "\n",
       "\n"
      ],
      "text/plain": [
       "        Crime     pov         metro       popdens  \n",
       "Crime   1.0000000  0.33847045  0.54397653 0.6118508\n",
       "pov     0.3384705  1.00000000 -0.08304677 0.3300112\n",
       "metro   0.5439765 -0.08304677  1.00000000 0.3158778\n",
       "popdens 0.6118508  0.33001118  0.31587775 1.0000000"
      ]
     },
     "metadata": {},
     "output_type": "display_data"
    },
    {
     "data": {
      "image/png": "[encoded data removed]",
      "text/plain": [
       "plot without title"
      ]
     },
     "metadata": {},
     "output_type": "display_data"
    }
   ],
   "source": [
    "cor(crime)\n",
    "plot(crime)\n",
    "pairs(crime)"
   ]
  },
  {
   "cell_type": "code",
   "execution_count": 14,
   "metadata": {
    "collapsed": false
   },
   "outputs": [
    {
     "data": {
      "image/png": "[encoded data removed]",
      "text/plain": [
       "Plot with title \"Histogram of crime$Crime\""
      ]
     },
     "metadata": {},
     "output_type": "display_data"
    }
   ],
   "source": [
    "#Histogram of the Crime variable\n",
    "hist(crime$Crime)"
   ]
  },
  {
   "cell_type": "markdown",
   "metadata": {},
   "source": [
    "**Analysing the Histogram of the crime variable**\n",
    "\n",
    "From the above histogram we can see that most of the values for the Y dependent variable sit within the parameters of what is known as a normal distribution pattern, however there is evidence of a possible outlier (11,000 to 12000) to the right end of the histogram, it is not always the situation that values can occur where a normal curve for a distribution has sunk down to zero.\n",
    "\n",
    "It is important to analyze in this case the two main measures of normal distribution these include both mean &standard deviation (sd). The generated histogram based on the crime variable is generally broadly symmetrical in shape, the highest block is between the 4000.00 and 5000.00 crime rate. The top most point of the normal distribution is the mean with the standard deviation indicating the level of spread there is away from the calculated mean. \n",
    "\n",
    "The center column of the histogram data shows a tail off to the right and left. But it can be viewed that the distribution is slightly skewed to the right indicated by the higher number of blocks to the right of the highest block. However it can be argued that the overall appearance of the bars of the distribution are relatively normal.\n",
    "\n",
    "Measures of spread;\n",
    "\n",
    "\n",
    "Answer; 1544.348/5098.33 =3.3021\n",
    "\n",
    "Normally one would prefer a lower measure of spread to higher ones indicating that the measures of average are more representative of the data analyzed. In terms of possible outliers in the values, a quick impression can be gathered by calculating the mean ± two standard deviations as shown below:\n",
    "\n",
    "Mean + 2 (standard deviations) = 5098.33 + 2(1544.348) = 8187.026\n",
    "Mean - 2 (standard deviations) = 5098.33- 2(1544.348) = 2009.634\n",
    "\n",
    "We can see that the values are within the range 2009.634 and 8187.026. However we can see one outlier between 11000 & 12000 that may be effecting the overall distribution and spread of the data on the right. This possible existence of outlier values can be explored further via descriptive statistics and a box-plot. "
   ]
  },
  {
   "cell_type": "code",
   "execution_count": 15,
   "metadata": {
    "collapsed": false
   },
   "outputs": [
    {
     "data": {
      "image/png": "[encoded data removed]",
      "text/plain": [
       "Plot with title \"\""
      ]
     },
     "metadata": {},
     "output_type": "display_data"
    }
   ],
   "source": [
    "hist(crime)"
   ]
  },
  {
   "cell_type": "markdown",
   "metadata": {},
   "source": [
    "**Box plot show the presence of an extreme outlier**\n",
    "\n",
    "The above box plot is displayed to demonstrate the distribution of the crime variable. The extended lines from the end of the box represent the lowest and highest values that are not outliers. The box plot will show that an observation is an outlier if it lays more than 1.5 times from the Inter quartile range. In the above plot the outlier is marked by an asterisk which is usually considered an extreme case, falling more than three the Inter Quartile Ranges above the box and can be viewed as being too far from the central values to be noted as reasonable.(An extreme value is a value which is more than 3 box lengths from the upper or lower limits of the box. These are indicated using the * symbol).\n",
    "\n",
    "Generally, statisticians view any value which is more than two standard deviations away from the mean as a possible outlier and values which are more than three standard deviations from the mean are definitely considered outliers. In the case we can see that the extreme value is three box lengths or more from the upper end of the box and therefore even further than the lower end of the box. In addition to the case of the above outlier which is an extreme we can say that by removing this outlier the top 75% quartile range will decrease in size and will move towards the inter-quartile range so yes we can say that this type of outlier will have some effect on the overall data.\n",
    "\n",
    "When calculating for a numeric variable by way of descriptive statistics it provides a 5% trimmed mean, this omits the top 5% of values and the bottom 5% of values from the calculation of the mean (a measure which will automatically disqualify outliers if they exist). \n",
    "\n",
    "In summary, there is good evidence that the crime values do conform to a normal distribution, apart from the outlier which does not fit in with the distribution of the other values. \n"
   ]
  },
  {
   "cell_type": "code",
   "execution_count": 16,
   "metadata": {
    "collapsed": false
   },
   "outputs": [
    {
     "data": {
      "image/png": "[encoded data removed]",
      "text/plain": [
       "plot without title"
      ]
     },
     "metadata": {},
     "output_type": "display_data"
    }
   ],
   "source": [
    "#Box Plot – Crime Variable\n",
    "boxplot(crime)"
   ]
  },
  {
   "cell_type": "code",
   "execution_count": 17,
   "metadata": {
    "collapsed": false
   },
   "outputs": [
    {
     "data": {
      "text/plain": [
       "     Crime            pov            metro           popdens      \n",
       " Min.   : 2533   Min.   : 8.00   Min.   : 24.00   Min.   :   1.1  \n",
       " 1st Qu.: 4140   1st Qu.:10.70   1st Qu.: 49.55   1st Qu.:  34.5  \n",
       " Median : 4894   Median :13.20   Median : 69.80   Median :  82.5  \n",
       " Mean   : 5098   Mean   :14.35   Mean   : 67.47   Mean   : 352.5  \n",
       " 3rd Qu.: 5834   3rd Qu.:17.40   3rd Qu.: 83.95   3rd Qu.: 191.2  \n",
       " Max.   :11761   Max.   :26.40   Max.   :100.00   Max.   :9482.8  "
      ]
     },
     "metadata": {},
     "output_type": "display_data"
    }
   ],
   "source": [
    "summary(crime)"
   ]
  },
  {
   "cell_type": "markdown",
   "metadata": {},
   "source": [
    "**Outlier Detection**\n",
    "\n",
    "Note from the descriptive statistics below that the mean value is 5098.33 but that a trimmed mean is 4986.16 \n",
    "– a trimmed mean will typically exclude outlier values as they will be in the outer edges of a set of values \n",
    "and the fact that there is a considerable gap between these figures suggests that possible outliers are having a big impact on the data.\n",
    "\n",
    "Assessing possible outliers and the box-plot shown above will explicitly identify such values.\n",
    "\n",
    "**Possible outlier solutions;**\n",
    "\n",
    "It may be possible that this is data entry error and needs to be investigated further, where the outlier is just wrong, in which case it should be deleted. An easy way to figure out if this is an legitimate outlier is to perform a test to remove the point that first noting the coefficients of the current model and then filter out that data point from the regression model. If there is little change in the model it is not an entry error and one should be concerned about its presence.\n",
    "\n",
    "It’s possible that what appears to be just a couple outliers is in fact a power distribution. Consider transforming the variable if one of your variables has an asymmetric distribution (that is, it’s not remotely bell-shaped). \n"
   ]
  },
  {
   "cell_type": "code",
   "execution_count": 18,
   "metadata": {
    "collapsed": false
   },
   "outputs": [
    {
     "data": {
      "text/plain": [
       "\n",
       "Call:\n",
       "lm(formula = Crime ~ pov + popdens + metro, data = crime)\n",
       "\n",
       "Coefficients:\n",
       "(Intercept)          pov      popdens        metro  \n",
       "  1638.8046      83.2998       0.4563      31.1747  \n"
      ]
     },
     "metadata": {},
     "output_type": "display_data"
    }
   ],
   "source": [
    "#Multivariable regression tips and tricks\n",
    "#Multiple Regression Model with many variables\n",
    "library(mlbench)\n",
    "lm.fit <- lm(Crime ~ pov + popdens + metro, data = crime)\n",
    "lm.fit"
   ]
  },
  {
   "cell_type": "code",
   "execution_count": 19,
   "metadata": {
    "collapsed": false
   },
   "outputs": [],
   "source": [
    "#Make prediction\n",
    "lm.predict <- predict(lm.fit)"
   ]
  },
  {
   "cell_type": "code",
   "execution_count": 20,
   "metadata": {
    "collapsed": false
   },
   "outputs": [
    {
     "data": {
      "image/png": "[encoded data removed]",
      "text/plain": [
       "Plot with title \"Linear regression predictions vs actual\""
      ]
     },
     "metadata": {},
     "output_type": "display_data"
    }
   ],
   "source": [
    "plot(crime$Crime, lm.predict, main=\"Linear regression predictions vs actual\", xlab=\"Actual\")"
   ]
  },
  {
   "cell_type": "code",
   "execution_count": 21,
   "metadata": {
    "collapsed": false
   },
   "outputs": [
    {
     "data": {
      "text/html": [
       "1022973.2106524"
      ],
      "text/latex": [
       "1022973.2106524"
      ],
      "text/markdown": [
       "1022973.2106524"
      ],
      "text/plain": [
       "[1] 1022973"
      ]
     },
     "metadata": {},
     "output_type": "display_data"
    }
   ],
   "source": [
    "# Evaluate the results Smaller the Mean Square Error the better the model. Really big is a bad result\n",
    "mean((lm.predict - crime$Crime)^2) "
   ]
  },
  {
   "cell_type": "code",
   "execution_count": 22,
   "metadata": {
    "collapsed": false
   },
   "outputs": [
    {
     "data": {
      "text/plain": [
       "\n",
       "Call:\n",
       "lm(formula = Crime ~ pov + popdens + metro, data = crime)\n",
       "\n",
       "Residuals:\n",
       "     Min       1Q   Median       3Q      Max \n",
       "-2292.66  -810.68    91.43   628.04  2214.63 \n",
       "\n",
       "Coefficients:\n",
       "             Estimate Std. Error t value Pr(>|t|)    \n",
       "(Intercept) 1638.8046   774.6803   2.115 0.039719 *  \n",
       "pov           83.2998    35.4091   2.352 0.022887 *  \n",
       "popdens        0.4563     0.1280   3.566 0.000845 ***\n",
       "metro         31.1747     7.3553   4.238 0.000104 ***\n",
       "---\n",
       "Signif. codes:  0 '***' 0.001 '**' 0.01 '*' 0.05 '.' 0.1 ' ' 1\n",
       "\n",
       "Residual standard error: 1054 on 47 degrees of freedom\n",
       "Multiple R-squared:  0.5625,\tAdjusted R-squared:  0.5346 \n",
       "F-statistic: 20.14 on 3 and 47 DF,  p-value: 1.547e-08\n"
      ]
     },
     "metadata": {},
     "output_type": "display_data"
    }
   ],
   "source": [
    "summary(lm.fit)"
   ]
  },
  {
   "cell_type": "code",
   "execution_count": 23,
   "metadata": {
    "collapsed": false
   },
   "outputs": [
    {
     "data": {
      "text/html": [
       "<dl class=dl-horizontal>\n",
       "\t<dt>(Intercept)</dt>\n",
       "\t\t<dd>1638.80462504486</dd>\n",
       "\t<dt>pov</dt>\n",
       "\t\t<dd>83.2997845669293</dd>\n",
       "\t<dt>popdens</dt>\n",
       "\t\t<dd>0.456304692389909</dd>\n",
       "\t<dt>metro</dt>\n",
       "\t\t<dd>31.1746602773032</dd>\n",
       "</dl>\n"
      ],
      "text/latex": [
       "\\begin{description*}\n",
       "\\item[(Intercept)] 1638.80462504486\n",
       "\\item[pov] 83.2997845669293\n",
       "\\item[popdens] 0.456304692389909\n",
       "\\item[metro] 31.1746602773032\n",
       "\\end{description*}\n"
      ],
      "text/markdown": [
       "(Intercept)\n",
       ":   1638.80462504486pov\n",
       ":   83.2997845669293popdens\n",
       ":   0.456304692389909metro\n",
       ":   31.1746602773032\n",
       "\n"
      ],
      "text/plain": [
       " (Intercept)          pov      popdens        metro \n",
       "1638.8046250   83.2997846    0.4563047   31.1746603 "
      ]
     },
     "metadata": {},
     "output_type": "display_data"
    }
   ],
   "source": [
    "#Correlation Co-efficients\n",
    "coef(lm.fit)"
   ]
  },
  {
   "cell_type": "markdown",
   "metadata": {},
   "source": [
    "**Analysis & Results of the Multiple Linear Regression Model**\n",
    "\n",
    "This section of the report analyzes a multiple linear regression model between the Y and the independent variables X1, X2 and X3.\n",
    "\n",
    "Y = 1638.805+ 83.300X1 + 31.175 X2+ 0.456 X3\n",
    "\n",
    "**Interpretation of the slope**\n",
    "The Interpretation of slope coefficients in this model shows that the value of 83.300 for X1 poverty means that crime has increased to 83.300 for each rise of one unit in poverty. The value of 31.175 for Metro means that crime will increase by 31.175 units for each rise of one unit in state Metropolitan population %. For X3 Population Density indicates that crime will increase by 0.456 units for every one increase in the population per mile. This helps to assess the statistical significance of the estimated causal linkages. The adjusted r squared which takes into account the degrees of freedom (i.e. sample size) is lower at 0 .535 this is again a good increase from the 0.096 value for the simple linear regression with just poverty as the x variable.\n",
    "\n",
    "**Standard Error**\n",
    "When we look at the Standard error of the y estimate it is 1053.58187 this can be compared to the average value of Y for a measure of the overall fit of the regression. This has reduced considerably from the 1467.94954 value in the simple linear regression – the smaller this is, the better the fit of the regression. As this is derived from residuals, a relatively low standard error of the estimate is consistent with a relatively high r squared, this is likely to occur when we have a large sample and a well-specified regression model with small residuals.\n",
    "\n",
    "**Analysis of R-squared**\n",
    "The r squared value of .563 is important (this tells us that the two x variables now jointly explain 56.3% of the variation in y. This represents a considerable increase of the r squared value of 0 .115 (11.5%) when we used just poverty to predict total crimes. When we look at the adjusted r squared which takes account of degrees of freedom it is lower at 0.535 which is again a considerable increase from the 0.096 value for the simple linear regression with just Poverty as the only x variable.\n",
    "\n",
    "The regression output states that we can be 99% confident that the slope for X1 lies between -11.762 and 176.110 as zero lies within this range we can say the slope is significant.  For X2 the slope lies between 11.407 and 49.338 and therefore is insignificant and we can say there is little significance in the slope for X3. \n"
   ]
  },
  {
   "cell_type": "markdown",
   "metadata": {},
   "source": [
    "**Residual Plots**\n",
    "\n",
    "Residual = Observed – Predicted\n",
    "Note: Positive values for the residual (on the y-axis) mean the prediction was too low, and negative values mean the prediction was too high; 0 means the guess was exactly correct.\n",
    "The plot of the residuals are as follows:\n"
   ]
  },
  {
   "cell_type": "code",
   "execution_count": 24,
   "metadata": {
    "collapsed": false
   },
   "outputs": [
    {
     "data": {
      "image/png": "[encoded data removed]",
      "text/plain": [
       "plot without title"
      ]
     },
     "metadata": {},
     "output_type": "display_data"
    }
   ],
   "source": [
    "#Check the residuals and plot\n",
    "fit2.stdRes = rstandard( lm.fit )\n",
    "plot( fit2.stdRes, col=\"red\")\n",
    "abline(0,0)"
   ]
  },
  {
   "cell_type": "markdown",
   "metadata": {},
   "source": [
    "The data points are not that symmetrically distributed, tending to cluster towards the middle of the plot with a small number of outlier points between 22 & 28. Most of the points are clustered around the lower single digits of the y-axis (e.g. 500 or 1,500, 2000 not 3000 or 4000). It can be noted that in general there aren’t any clear patterns.\n",
    "\n",
    "These points on the plots are not evenly distributed vertically, or they have a clear shape to them, but they do have an outlier between 9000 & 10000 which indicates that the regression model has an outlying data point on an input variable, population density (outliers on and input variable are also known as “leverage points”. The low number of points in the data set may have an influence on the clustering of the data as seen above therefore by increasing the sample size to say 80 -100 data points would improve the spread of points. "
   ]
  },
  {
   "cell_type": "code",
   "execution_count": 25,
   "metadata": {
    "collapsed": false
   },
   "outputs": [
    {
     "data": {
      "image/png": "[encoded data removed]",
      "text/plain": [
       "Plot with title \"Normality Plot\""
      ]
     },
     "metadata": {},
     "output_type": "display_data"
    }
   ],
   "source": [
    "#Normality plot in R:\n",
    "qqnorm(fit2.stdRes,ylab=\"Standardized Residuals\",xlab=\"Normal Scores\", main=\"Normality Plot\", col=\"red\")\n",
    "qqline(fit2.stdRes)"
   ]
  },
  {
   "cell_type": "code",
   "execution_count": 26,
   "metadata": {
    "collapsed": false
   },
   "outputs": [
    {
     "data": {
      "image/png": "[encoded data removed]",
      "text/plain": [
       "Plot with title \"Histogram of fit2.stdRes\""
      ]
     },
     "metadata": {},
     "output_type": "display_data"
    }
   ],
   "source": [
    "hist( fit2.stdRes, col=\"red\")\n"
   ]
  },
  {
   "cell_type": "code",
   "execution_count": 27,
   "metadata": {
    "collapsed": true
   },
   "outputs": [],
   "source": [
    "#One way Anova on crime data \n",
    "crimeanova = read.csv( \"C:/Clusters/Crime Statistics Anova.csv\", header=TRUE)"
   ]
  },
  {
   "cell_type": "code",
   "execution_count": 28,
   "metadata": {
    "collapsed": false
   },
   "outputs": [
    {
     "name": "stderr",
     "output_type": "stream",
     "text": [
      "Warning message in stack.data.frame(crimeanova):\n",
      "\"non-vector columns will be ignored\""
     ]
    }
   ],
   "source": [
    "crimeanova_dataset1 <- stack( crimeanova )"
   ]
  },
  {
   "cell_type": "code",
   "execution_count": 29,
   "metadata": {
    "collapsed": false
   },
   "outputs": [
    {
     "data": {
      "text/html": [
       "<table>\n",
       "<thead><tr><th scope=col>values</th><th scope=col>ind</th></tr></thead>\n",
       "<tbody>\n",
       "\t<tr><td>4879   </td><td>Group.1</td></tr>\n",
       "\t<tr><td>5568   </td><td>Group.1</td></tr>\n",
       "\t<tr><td>7432   </td><td>Group.1</td></tr>\n",
       "\t<tr><td>4811   </td><td>Group.1</td></tr>\n",
       "\t<tr><td>6457   </td><td>Group.1</td></tr>\n",
       "\t<tr><td>5527   </td><td>Group.1</td></tr>\n",
       "</tbody>\n",
       "</table>\n"
      ],
      "text/latex": [
       "\\begin{tabular}{r|ll}\n",
       " values & ind\\\\\n",
       "\\hline\n",
       "\t 4879    & Group.1\\\\\n",
       "\t 5568    & Group.1\\\\\n",
       "\t 7432    & Group.1\\\\\n",
       "\t 4811    & Group.1\\\\\n",
       "\t 6457    & Group.1\\\\\n",
       "\t 5527    & Group.1\\\\\n",
       "\\end{tabular}\n"
      ],
      "text/markdown": [
       "\n",
       "values | ind | \n",
       "|---|---|---|---|---|---|\n",
       "| 4879    | Group.1 | \n",
       "| 5568    | Group.1 | \n",
       "| 7432    | Group.1 | \n",
       "| 4811    | Group.1 | \n",
       "| 6457    | Group.1 | \n",
       "| 5527    | Group.1 | \n",
       "\n",
       "\n"
      ],
      "text/plain": [
       "  values ind    \n",
       "1 4879   Group.1\n",
       "2 5568   Group.1\n",
       "3 7432   Group.1\n",
       "4 4811   Group.1\n",
       "5 6457   Group.1\n",
       "6 5527   Group.1"
      ]
     },
     "metadata": {},
     "output_type": "display_data"
    }
   ],
   "source": [
    "head(crimeanova_dataset1)"
   ]
  },
  {
   "cell_type": "code",
   "execution_count": 30,
   "metadata": {
    "collapsed": false
   },
   "outputs": [
    {
     "data": {
      "text/plain": [
       "\n",
       "\tOne-way analysis of means\n",
       "\n",
       "data:  values and ind\n",
       "F = 2.986, num df = 6, denom df = 239, p-value = 0.007859\n"
      ]
     },
     "metadata": {},
     "output_type": "display_data"
    },
    {
     "data": {
      "text/plain": [
       "             Df    Sum Sq   Mean Sq F value  Pr(>F)   \n",
       "ind           6 2.138e+11 3.564e+10   2.986 0.00786 **\n",
       "Residuals   239 2.853e+12 1.194e+10                   \n",
       "---\n",
       "Signif. codes:  0 '***' 0.001 '**' 0.01 '*' 0.05 '.' 0.1 ' ' 1\n",
       "264 observations deleted due to missingness"
      ]
     },
     "metadata": {},
     "output_type": "display_data"
    }
   ],
   "source": [
    "#One way anova test\n",
    "oneway.test( values ~ ind, var.equal=TRUE, data=crimeanova_dataset1 )\n",
    "model <- aov( values ~ ind, data=crimeanova_dataset1 )\n",
    "summary(model)"
   ]
  },
  {
   "cell_type": "markdown",
   "metadata": {},
   "source": [
    "**Conclusion**\n",
    "\n",
    "Overall with some reservations this is a good regression model - it has a good sample size (over 50), a noticeable effect when you add variables to the model, and gave us an adjusted r squared of 0.535 which though not as high as we would like.\n",
    "To conclude the multiple regression model this is averagely good, although I would recommend ways to make it better including a larger sample size greater than 51even though this is an acceptable sample set, additional data of a sample size of 100 could increase the predictability of the generated regression model, also including additional variables and observing the impact on the r squared and thus improving the quality of the data used. We could also add or eliminate a number of different dummy variables and to try conjure a much healthier adjusted r 2.\n"
   ]
  }
 ],
 "metadata": {
  "_draft": {
   "nbviewer_url": "https://gist.github.com/d352d786cc8087d3e934dbf1ee34b363"
  },
  "gist": {
   "data": {
    "description": "Advanced Data Analysis; Multiple Linear Regression and One-way ANOVA using R.ipynb",
    "public": true
   },
   "id": "d352d786cc8087d3e934dbf1ee34b363"
  },
  "kernelspec": {
   "display_name": "R",
   "language": "R",
   "name": "ir"
  },
  "language_info": {
   "codemirror_mode": "r",
   "file_extension": ".r",
   "mimetype": "text/x-r-source",
   "name": "R",
   "pygments_lexer": "r",
   "version": "3.2.3"
  }
 },
 "nbformat": 4,
 "nbformat_minor": 2
}
